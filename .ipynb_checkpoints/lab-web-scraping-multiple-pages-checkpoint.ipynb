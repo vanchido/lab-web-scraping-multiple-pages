{
 "cells": [
  {
   "cell_type": "markdown",
   "id": "a5a46bcb",
   "metadata": {},
   "source": [
    "## Expand the project"
   ]
  },
  {
   "cell_type": "markdown",
   "id": "ef488d66",
   "metadata": {},
   "source": [
    "If you're done, you can try to expand the project on your own. Here are a few suggestions:\n",
    "\n",
    "- Find other lists of hot songs on the internet and scrape them too: having a bigger pool of songs will be awesome!\n",
    "- Apply the same logic to other \"groups\" of songs: the best songs from a decade or from a country / culture / language / genre.\n",
    "- Wikipedia maintains a large collection of lists of songs: https://en.wikipedia.org/wiki/Lists_of_songs"
   ]
  },
  {
   "cell_type": "code",
   "execution_count": 1,
   "id": "fbd1af70",
   "metadata": {},
   "outputs": [],
   "source": [
    "# https://rateyourmusic.com/list/gibboanx/the_1000_greatest_songs_of_all_time"
   ]
  },
  {
   "cell_type": "code",
   "execution_count": 37,
   "id": "c6d4968a",
   "metadata": {},
   "outputs": [],
   "source": [
    "from bs4 import BeautifulSoup\n",
    "import pandas as pd\n",
    "import requests\n",
    "import re"
   ]
  },
  {
   "cell_type": "code",
   "execution_count": 18,
   "id": "fc801537",
   "metadata": {},
   "outputs": [
    {
     "name": "stdout",
     "output_type": "stream",
     "text": [
      "Bitter Melodies:  200\n"
     ]
    }
   ],
   "source": [
    "bittermelodies = requests.get('https://bittermelodies.com/2021/02/09/1000-greatest-songs-of-all-time/')\n",
    "print('Bitter Melodies: ', bittermelodies.status_code)"
   ]
  },
  {
   "cell_type": "code",
   "execution_count": 19,
   "id": "96fe02e6",
   "metadata": {},
   "outputs": [
    {
     "data": {
      "text/plain": [
       "{'Server': 'nginx', 'Date': 'Fri, 03 Mar 2023 05:54:54 GMT', 'Content-Type': 'text/html; charset=UTF-8', 'Transfer-Encoding': 'chunked', 'Connection': 'keep-alive', 'Strict-Transport-Security': 'max-age=31536000', 'Vary': 'Accept-Encoding, Cookie', 'X-hacker': \"If you're reading this, you should visit automattic.com/jobs and apply to join the fun, mention this header.\", 'Host-Header': 'WordPress.com', 'Link': '<https://wp.me/p89gm7-3gP>; rel=shortlink', 'Content-Encoding': 'br', 'X-ac': '3.cdg _dca MISS'}"
      ]
     },
     "execution_count": 19,
     "metadata": {},
     "output_type": "execute_result"
    }
   ],
   "source": [
    "bittermelodies.headers"
   ]
  },
  {
   "cell_type": "code",
   "execution_count": 26,
   "id": "89893ea0",
   "metadata": {},
   "outputs": [
    {
     "data": {
      "text/plain": [
       "[<a class=\"post-page-numbers\" href=\"https://bittermelodies.com/2021/02/09/1000-greatest-songs-of-all-time/2/\"><span>2</span></a>,\n",
       " <a class=\"post-page-numbers\" href=\"https://bittermelodies.com/2021/02/09/1000-greatest-songs-of-all-time/3/\"><span>3</span></a>,\n",
       " <a class=\"post-page-numbers\" href=\"https://bittermelodies.com/2021/02/09/1000-greatest-songs-of-all-time/4/\"><span>4</span></a>,\n",
       " <a class=\"post-page-numbers\" href=\"https://bittermelodies.com/2021/02/09/1000-greatest-songs-of-all-time/5/\"><span>5</span></a>]"
      ]
     },
     "execution_count": 26,
     "metadata": {},
     "output_type": "execute_result"
    }
   ],
   "source": [
    "# Find number of pages\n",
    "soup = BeautifulSoup(bittermelodies.content, 'html.parser')\n",
    "soup.find_all('a', attrs={'class':'post-page-numbers'})"
   ]
  },
  {
   "cell_type": "code",
   "execution_count": 28,
   "id": "71912b82",
   "metadata": {},
   "outputs": [
    {
     "data": {
      "text/plain": [
       "[1, 2, 3, 4, 5]"
      ]
     },
     "execution_count": 28,
     "metadata": {},
     "output_type": "execute_result"
    }
   ],
   "source": [
    "# There are 5 pages, 250 songs/page\n",
    "starts = range(1,6)\n",
    "list(starts)"
   ]
  },
  {
   "cell_type": "code",
   "execution_count": 32,
   "id": "6670391b",
   "metadata": {},
   "outputs": [
    {
     "data": {
      "text/plain": [
       "['1000. Paul & Linda McCartney – “Uncle Albert/Admiral Halsey” (1971)',\n",
       " '999. The Beta Band – “Dry the Rain” (1997)',\n",
       " '998. The Whispers – “And the Beat Goes On” (1979)',\n",
       " '997. Broadcast – “Come On Let’s Go” (2000)',\n",
       " '996. Charli XCX – “Track 10” (2017)',\n",
       " '995. Faust – “It’s a Rainy Day, Sunshine Girl” (1972)',\n",
       " '994. Barry White – “Never, Never Gonna Give Ya Up” (1973)',\n",
       " '993. Van Halen – “Runnin’ with the Devil” (1978)',\n",
       " '992. Anderson .Paak (ft. ScHoolboy Q) – “Am I Wrong” (2015)',\n",
       " '991. Eagles – “One of These Nights” (1975)',\n",
       " '990. Real Estate – “It’s Real” (2011)',\n",
       " '989. The Ink Spots – “If I Didn’t Care” (1939)',\n",
       " '988. Anita Baker – “Sweet Love” (1986)',\n",
       " '987. Interpol – “Obstacle 1” (2002)',\n",
       " '986. Minnie Riperton – “Les Fleurs” (1970)',\n",
       " '985. Billy Joel – “Vienna” (1977)',\n",
       " '984. Cut Copy – “Hearts on Fire” (2007)',\n",
       " '983. Cybotron – “Clear” (1983)',\n",
       " '982. William DeVaughn – “Be Thankful for What You Got” (1974)',\n",
       " '981. Death Cab for Cutie – “A Movie Script Ending” (2001)',\n",
       " '980. Pulp – “Sunrise” (2001)',\n",
       " '979. Ramones – “Sheena Is a Punk Rocker” (1977)',\n",
       " '978. CHIC – “I Want Your Love” (1978)',\n",
       " '977. Whitney Houston – “How Will I Know” (1985)',\n",
       " '976. EPMD – “You Gots to Chill” (1988)',\n",
       " '975. Jorge Ben – “Taj Mahal” (1976)',\n",
       " '974. Nelly Furtado – “Maneater” (2006)',\n",
       " '973. Giorgio Moroder – “Chase” (1978)',\n",
       " '972. Bill Withers – “Use Me” (1972)',\n",
       " '971. Glen Campbell – “Southern Nights” (1977)',\n",
       " '970. Japandroids – “Younger Us” (2010)',\n",
       " '969. Sister Rosetta Tharpe – “This Train” (1930s)',\n",
       " '968. Minor Threat – “Minor Threat” (1981)',\n",
       " '967. Massive Attack – “Angel” (1998)',\n",
       " '966. The Chi-Lites – “Have You Seen Her” (1971)',\n",
       " '965. Muddy Waters – “Rollin’ Stone” (1950)',\n",
       " '964. Jay Reatard – “My Shadow” (2006)',\n",
       " '963. Steve Reich – “It’s Gonna Rain” (1965)',\n",
       " '962. Green Day – “Longview” (1994)',\n",
       " '961. Mitski – “Nobody” (2018)',\n",
       " '960. Cerrone – “Supernature” (1977)',\n",
       " \"959. Alicia Keys – “Fallin'” (2001)\",\n",
       " '958. Rick James – “Give It to Me Baby” (1981)',\n",
       " '957. Zoo Kid – “Out Getting Ribs” (2010)',\n",
       " '956. Paul Simon – “Graceland” (1986)',\n",
       " '955. The Marvelettes – “Please Mr. Postman” (1961)',\n",
       " '954. Tenor Saw – “Ring the Alarm” (1985)',\n",
       " '953. David Byrne / Brian Eno – “Strange Overtones” (2008)',\n",
       " '952. Leroy Carr – “How Long, How Long Blues” (1928)',\n",
       " '951. Los Campesinos! – “You! Me! Dancing!” (2007)']"
      ]
     },
     "execution_count": 32,
     "metadata": {},
     "output_type": "execute_result"
    }
   ],
   "source": [
    "songs = [song.get_text() for song in soup.find_all('strong')]\n",
    "songs"
   ]
  },
  {
   "cell_type": "code",
   "execution_count": 59,
   "id": "91f10d72",
   "metadata": {},
   "outputs": [
    {
     "data": {
      "text/plain": [
       "'1000'"
      ]
     },
     "execution_count": 59,
     "metadata": {},
     "output_type": "execute_result"
    }
   ],
   "source": [
    "order = soup.find('strong').get_text().split('.')[0]\n",
    "order"
   ]
  },
  {
   "cell_type": "code",
   "execution_count": 84,
   "id": "b925588f",
   "metadata": {},
   "outputs": [
    {
     "data": {
      "text/plain": [
       "'1971'"
      ]
     },
     "execution_count": 84,
     "metadata": {},
     "output_type": "execute_result"
    }
   ],
   "source": [
    "text = soup.find('strong').get_text()\n",
    "year = text[text.find('(')+1:text.find(')')]\n",
    "year"
   ]
  },
  {
   "cell_type": "code",
   "execution_count": 93,
   "id": "ba81746e",
   "metadata": {},
   "outputs": [
    {
     "data": {
      "text/plain": [
       "['1000. Paul & Linda McCartney – “Uncle Albert/Admiral Halsey” (1971)']"
      ]
     },
     "execution_count": 93,
     "metadata": {},
     "output_type": "execute_result"
    }
   ],
   "source": [
    "title = [i for i in text.split() if (i.startswith('\"') and i.endswith('\"'))]\n",
    "title\n",
    "\n",
    "text.split(' - ')"
   ]
  },
  {
   "cell_type": "code",
   "execution_count": 75,
   "id": "4f5e44df",
   "metadata": {},
   "outputs": [
    {
     "data": {
      "text/plain": [
       "'1000. Paul & Linda McCartney – “Uncle Albert/Admiral Halsey” (1971)'"
      ]
     },
     "execution_count": 75,
     "metadata": {},
     "output_type": "execute_result"
    }
   ],
   "source": [
    "text"
   ]
  },
  {
   "cell_type": "code",
   "execution_count": null,
   "id": "3cede0d7",
   "metadata": {},
   "outputs": [],
   "source": [
    "artist = soup.find('strong').get_text().split('.')[0]"
   ]
  },
  {
   "cell_type": "code",
   "execution_count": null,
   "id": "79748b9f",
   "metadata": {},
   "outputs": [],
   "source": [
    "def get_song_info(songs):    \n",
    "    order = []\n",
    "    artists = []\n",
    "    titles = []\n",
    "    year = []\n",
    "\n",
    "    for song in songs:\n",
    "        \n",
    "        order = song.get_text() for song in soup.find_all('strong') if movie.find('h3').find('a') else 'Not informed.'    \n",
    "        rating = movie.find('strong').get_text() if movie.find('strong') else 'Not informed.'\n",
    "        genre = movie.find('span', attrs={'class': 'genre'}).get_text(strip=True) if movie.find('span', attrs={'class': 'genre'}) else 'Not informed.'\n",
    "        runtime = movie.find('span', attrs={'class': 'runtime'}).get_text() if movie.find('span', attrs={'class': 'runtime'}) else 'Not informed.'\n",
    "        link = 'http://www.imdb.com' + movie.find('h3', attrs={'class': 'lister-item-header'}).find('a').get('href')\n",
    "\n",
    "        titles.append(title)\n",
    "        ratings.append(rating)\n",
    "        genres.append(genre)\n",
    "        links.append(link)\n",
    "        runtimes.append(runtime)\n",
    "    \n",
    "    dct = {'title': titles, 'rating': ratings, 'genre': genres, 'runtime': runtimes}\n",
    "    \n",
    "    return dct"
   ]
  },
  {
   "cell_type": "code",
   "execution_count": 33,
   "id": "2df95158",
   "metadata": {},
   "outputs": [
    {
     "ename": "NameError",
     "evalue": "name 'info_dct' is not defined",
     "output_type": "error",
     "traceback": [
      "\u001b[0;31m---------------------------------------------------------------------------\u001b[0m",
      "\u001b[0;31mNameError\u001b[0m                                 Traceback (most recent call last)",
      "\u001b[0;32m/var/folders/w5/8yx_2s_x17lffygy0r797wvc0000gn/T/ipykernel_11420/2588975014.py\u001b[0m in \u001b[0;36m<module>\u001b[0;34m\u001b[0m\n\u001b[1;32m      5\u001b[0m     \u001b[0msoup\u001b[0m \u001b[0;34m=\u001b[0m \u001b[0mBeautifulSoup\u001b[0m\u001b[0;34m(\u001b[0m\u001b[0mr\u001b[0m\u001b[0;34m.\u001b[0m\u001b[0mcontent\u001b[0m\u001b[0;34m,\u001b[0m \u001b[0;34m'html.parser'\u001b[0m\u001b[0;34m)\u001b[0m\u001b[0;34m\u001b[0m\u001b[0;34m\u001b[0m\u001b[0m\n\u001b[1;32m      6\u001b[0m     \u001b[0msong\u001b[0m \u001b[0;34m=\u001b[0m \u001b[0msoup\u001b[0m\u001b[0;34m.\u001b[0m\u001b[0mfind_all\u001b[0m\u001b[0;34m(\u001b[0m\u001b[0;34m'strong'\u001b[0m\u001b[0;34m)\u001b[0m\u001b[0;34m\u001b[0m\u001b[0;34m\u001b[0m\u001b[0m\n\u001b[0;32m----> 7\u001b[0;31m     \u001b[0mnew_df\u001b[0m \u001b[0;34m=\u001b[0m \u001b[0mpd\u001b[0m\u001b[0;34m.\u001b[0m\u001b[0mDataFrame\u001b[0m\u001b[0;34m.\u001b[0m\u001b[0mfrom_dict\u001b[0m\u001b[0;34m(\u001b[0m\u001b[0minfo_dct\u001b[0m\u001b[0;34m)\u001b[0m\u001b[0;34m\u001b[0m\u001b[0;34m\u001b[0m\u001b[0m\n\u001b[0m\u001b[1;32m      8\u001b[0m     \u001b[0mdf\u001b[0m \u001b[0;34m=\u001b[0m \u001b[0mpd\u001b[0m\u001b[0;34m.\u001b[0m\u001b[0mconcat\u001b[0m\u001b[0;34m(\u001b[0m\u001b[0;34m[\u001b[0m\u001b[0mdf\u001b[0m\u001b[0;34m,\u001b[0m \u001b[0mnew_df\u001b[0m\u001b[0;34m]\u001b[0m\u001b[0;34m)\u001b[0m\u001b[0;34m\u001b[0m\u001b[0;34m\u001b[0m\u001b[0m\n\u001b[1;32m      9\u001b[0m \u001b[0;34m\u001b[0m\u001b[0m\n",
      "\u001b[0;31mNameError\u001b[0m: name 'info_dct' is not defined"
     ]
    }
   ],
   "source": [
    "df = pd.DataFrame()\n",
    "\n",
    "for start in starts:\n",
    "    r = requests.get(f'https://bittermelodies.com/2021/02/09/1000-greatest-songs-of-all-time/{start}')\n",
    "    soup = BeautifulSoup(r.content, 'html.parser')\n",
    "    song = soup.find_all('strong')\n",
    "    new_df = pd.DataFrame.from_dict(info_dct)\n",
    "    df = pd.concat([df, new_df])\n",
    "\n",
    "df"
   ]
  },
  {
   "cell_type": "code",
   "execution_count": null,
   "id": "a4dd3c33",
   "metadata": {},
   "outputs": [],
   "source": []
  },
  {
   "cell_type": "code",
   "execution_count": null,
   "id": "5fdbf660",
   "metadata": {},
   "outputs": [],
   "source": []
  }
 ],
 "metadata": {
  "kernelspec": {
   "display_name": "Python 3 (ipykernel)",
   "language": "python",
   "name": "python3"
  },
  "language_info": {
   "codemirror_mode": {
    "name": "ipython",
    "version": 3
   },
   "file_extension": ".py",
   "mimetype": "text/x-python",
   "name": "python",
   "nbconvert_exporter": "python",
   "pygments_lexer": "ipython3",
   "version": "3.9.13"
  }
 },
 "nbformat": 4,
 "nbformat_minor": 5
}
