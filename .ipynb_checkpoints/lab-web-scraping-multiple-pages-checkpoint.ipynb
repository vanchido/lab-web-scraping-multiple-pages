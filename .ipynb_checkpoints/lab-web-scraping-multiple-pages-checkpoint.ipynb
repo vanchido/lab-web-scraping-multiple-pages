{
 "cells": [
  {
   "cell_type": "markdown",
   "id": "a5a46bcb",
   "metadata": {},
   "source": [
    "## Expand the project"
   ]
  },
  {
   "cell_type": "markdown",
   "id": "ef488d66",
   "metadata": {},
   "source": [
    "If you're done, you can try to expand the project on your own. Here are a few suggestions:\n",
    "\n",
    "- Find other lists of hot songs on the internet and scrape them too: having a bigger pool of songs will be awesome!\n",
    "- Apply the same logic to other \"groups\" of songs: the best songs from a decade or from a country / culture / language / genre.\n",
    "- Wikipedia maintains a large collection of lists of songs: https://en.wikipedia.org/wiki/Lists_of_songs"
   ]
  },
  {
   "cell_type": "code",
   "execution_count": 1,
   "id": "fbd1af70",
   "metadata": {},
   "outputs": [],
   "source": [
    "# https://bittermelodies.com/2021/02/14/1000-greatest-songs-of-all-time-part-4-250-1/"
   ]
  },
  {
   "cell_type": "code",
   "execution_count": 2,
   "id": "c6d4968a",
   "metadata": {},
   "outputs": [],
   "source": [
    "from bs4 import BeautifulSoup\n",
    "import pandas as pd\n",
    "import requests\n",
    "import re"
   ]
  },
  {
   "cell_type": "code",
   "execution_count": 3,
   "id": "fc801537",
   "metadata": {},
   "outputs": [
    {
     "name": "stdout",
     "output_type": "stream",
     "text": [
      "Bitter Melodies:  200\n"
     ]
    }
   ],
   "source": [
    "bittermelodies = requests.get('https://bittermelodies.com/2021/02/14/1000-greatest-songs-of-all-time-part-4-250-1/')\n",
    "print('Bitter Melodies: ', bittermelodies.status_code)"
   ]
  },
  {
   "cell_type": "code",
   "execution_count": 4,
   "id": "96fe02e6",
   "metadata": {},
   "outputs": [
    {
     "data": {
      "text/plain": [
       "{'Server': 'nginx', 'Date': 'Sun, 05 Mar 2023 15:12:42 GMT', 'Content-Type': 'text/html; charset=UTF-8', 'Transfer-Encoding': 'chunked', 'Connection': 'keep-alive', 'Strict-Transport-Security': 'max-age=31536000', 'Vary': 'Accept-Encoding, Cookie', 'X-hacker': \"If you're reading this, you should visit automattic.com/jobs and apply to join the fun, mention this header.\", 'Host-Header': 'WordPress.com', 'Link': '<https://wp.me/p89gm7-3zC>; rel=shortlink', 'Content-Encoding': 'br', 'X-ac': '3.cdg _dca MISS'}"
      ]
     },
     "execution_count": 4,
     "metadata": {},
     "output_type": "execute_result"
    }
   ],
   "source": [
    "bittermelodies.headers"
   ]
  },
  {
   "cell_type": "code",
   "execution_count": 5,
   "id": "89893ea0",
   "metadata": {},
   "outputs": [
    {
     "data": {
      "text/plain": [
       "[<a class=\"post-page-numbers\" href=\"https://bittermelodies.com/2021/02/14/1000-greatest-songs-of-all-time-part-4-250-1/2/\"><span>2</span></a>,\n",
       " <a class=\"post-page-numbers\" href=\"https://bittermelodies.com/2021/02/14/1000-greatest-songs-of-all-time-part-4-250-1/3/\"><span>3</span></a>,\n",
       " <a class=\"post-page-numbers\" href=\"https://bittermelodies.com/2021/02/14/1000-greatest-songs-of-all-time-part-4-250-1/4/\"><span>4</span></a>,\n",
       " <a class=\"post-page-numbers\" href=\"https://bittermelodies.com/2021/02/14/1000-greatest-songs-of-all-time-part-4-250-1/5/\"><span>5</span></a>]"
      ]
     },
     "execution_count": 5,
     "metadata": {},
     "output_type": "execute_result"
    }
   ],
   "source": [
    "# Find number of pages\n",
    "soup = BeautifulSoup(bittermelodies.content, 'html.parser')\n",
    "soup.find_all('a', attrs={'class':'post-page-numbers'})"
   ]
  },
  {
   "cell_type": "code",
   "execution_count": 6,
   "id": "71912b82",
   "metadata": {},
   "outputs": [
    {
     "data": {
      "text/plain": [
       "[1, 2, 3, 4, 5]"
      ]
     },
     "execution_count": 6,
     "metadata": {},
     "output_type": "execute_result"
    }
   ],
   "source": [
    "# There are 5 pages, 50 songs/page\n",
    "starts = range(1,6)\n",
    "list(starts)"
   ]
  },
  {
   "cell_type": "code",
   "execution_count": 7,
   "id": "6670391b",
   "metadata": {},
   "outputs": [
    {
     "data": {
      "text/plain": [
       "['250. Angel Olsen – “Shut Up Kiss Me” (2016)',\n",
       " '249. Dolly Parton – “Jolene” (1973)',\n",
       " '248. Neil Young – “After the Gold Rush” (1970)',\n",
       " '247. The Orb – “Little Fluffy Clouds” (1990)',\n",
       " '246. Daryl Hall & John Oates – “I Can’t Go for That (No Can Do)” (1981)',\n",
       " '245. Toots & the Maytals – “Pressure Drop” (1969)',\n",
       " '244. John Lee Hooker – “Boogie Chillen” (1948)',\n",
       " '243. Louis Armstrong – “What a Wonderful World” (1967)',\n",
       " '242. Arcade Fire – “Neighborhood #1 (Tunnels)” (2004)',\n",
       " '241. Eric B. & Rakim – “Paid in Full” (1987)',\n",
       " '240. Built to Spill – “Car” (1994)',\n",
       " '239. Frank Ocean – “Thinkin Bout You” (2012)',\n",
       " '238. Del Shannon – “Runaway” (1961)',\n",
       " '237. Laurie Anderson – “O Superman” (1981)',\n",
       " '236. Lil Wayne – “A Milli” (2008)',\n",
       " '235. The Smiths – “There Is a Light That Never Goes Out” (1986)',\n",
       " '234. Public Enemy – “Bring the Noise” (1988)',\n",
       " '233. Destiny’s Child – “Say My Name” (1999)',\n",
       " '232. The Righteous Brothers – “You’ve Lost That Lovin’ Feeling” (1964)',\n",
       " '231. The Cure – “Boys Don’t Cry” (1979)',\n",
       " '230. My Bloody Valentine – “Only Shallow” (1991)',\n",
       " '229. Madonna – “Like a Prayer” (1989)',\n",
       " '228. Robert Johnson – “Cross Road Blues” (1937)',\n",
       " '227. Ike & Tina Turner – “River Deep – Mountain High” (1966)',\n",
       " '226. Aretha Franklin – “I Never Loved a Man (The Way I Love You)” (1967)',\n",
       " '225. The Beatles – “Hey Jude” (1968)',\n",
       " '224. Roxy Music – “More Than This” (1982)',\n",
       " '223. Nine Inch Nails – “Closer” (1994)',\n",
       " '222. Talking Heads – “Psycho Killer” (1977)',\n",
       " '221. Bill Callahan – “Jim Cain” (2009)',\n",
       " '220. Prince & the Revolution – “Kiss” (1986)',\n",
       " '219. Taylor Swift – “You Belong with Me” (2008)',\n",
       " '218. Salt-N-Pepa – “Push It” (1986)',\n",
       " '217. 2Pac – “Ambitionz Az a Ridah” (1996)',\n",
       " '216. Slick Rick – “Children’s Story” (1988)',\n",
       " '215. David Bowie – “Space Oddity” (1969)',\n",
       " '214. The Carter Family – “Can the Circle Be Unbroken (By and By)” (1935)',\n",
       " '213. CAN – “Vitamin C” (1972)',\n",
       " '212. The Isley Brothers – “Shout” (1959)',\n",
       " '211. TLC – “No Scrubs” (1999)',\n",
       " '210. Sister Nancy – “Bam Bam” (1982)',\n",
       " '209. Kate Bush – “Hounds of Love” (1985)',\n",
       " '208. The Beatles – “Eleanor Rigby” (1966)',\n",
       " '207. Desmond Dekker & the Aces – “Israelites” (1968)',\n",
       " '206. Tame Impala – “Let It Happen” (2015)',\n",
       " '205. The Rolling Stones – “You Can’t Always Get What You Want” (1969)',\n",
       " '204. Frank Sinatra – “In the Wee Small Hours of the Morning” (1955)',\n",
       " '203. David Bowie – “Changes” (1971)',\n",
       " '202. The Kinks – “Lola” (1970)',\n",
       " '201. Duke Ellington – “Take the ‘A’ Train” (1941)']"
      ]
     },
     "execution_count": 7,
     "metadata": {},
     "output_type": "execute_result"
    }
   ],
   "source": [
    "# get the list of songs from the first page\n",
    "songs = [song.get_text() for song in soup.find_all('strong')]\n",
    "songs"
   ]
  },
  {
   "cell_type": "code",
   "execution_count": 8,
   "id": "4f5e44df",
   "metadata": {},
   "outputs": [
    {
     "data": {
      "text/plain": [
       "'250. Angel Olsen – “Shut Up Kiss Me” (2016)'"
      ]
     },
     "execution_count": 8,
     "metadata": {},
     "output_type": "execute_result"
    }
   ],
   "source": [
    "# extracting one song\n",
    "text = soup.find('strong').get_text()\n",
    "text"
   ]
  },
  {
   "cell_type": "code",
   "execution_count": 9,
   "id": "88aa7004",
   "metadata": {},
   "outputs": [
    {
     "data": {
      "text/plain": [
       "['250', 'Angel Olsen', 'Shut Up Kiss Me', '2016']"
      ]
     },
     "execution_count": 9,
     "metadata": {},
     "output_type": "execute_result"
    }
   ],
   "source": [
    "# extracting information from text\n",
    "match = re.search(r'^(\\d+)\\. ([^\\–]+) \\– “([^”]+)” \\((\\d+)\\)$', text)\n",
    "result = [match.group(1), match.group(2).strip(), match.group(3).strip(), match.group(4)]\n",
    "result"
   ]
  },
  {
   "cell_type": "code",
   "execution_count": 18,
   "id": "79748b9f",
   "metadata": {},
   "outputs": [],
   "source": [
    "def get_song_info(songs):    \n",
    "    orders = []\n",
    "    artists = []\n",
    "    titles = []\n",
    "    years = []\n",
    "\n",
    "    for song in songs:\n",
    "        match = re.search(r'^(\\d+)\\. ([^\\–]+) \\– “([^”]+)” \\((\\d+)\\)$', song)\n",
    "        \n",
    "        order = int(match.group(1)) if match is not None else 'Not informed.'    \n",
    "        artist = match.group(2).strip() if match is not None else 'Not informed.'\n",
    "        title = match.group(3).strip() if match is not None else 'Not informed.'\n",
    "        year = match.group(4) if match is not None else 'Not informed.'\n",
    "        \n",
    "        orders.append(order)\n",
    "        artists.append(artist)\n",
    "        titles.append(title)\n",
    "        years.append(year)\n",
    "        \n",
    "    dct = {'order': orders, 'artist': artists, 'title': titles, 'year': years}\n",
    "    \n",
    "    return dct"
   ]
  },
  {
   "cell_type": "code",
   "execution_count": 19,
   "id": "2df95158",
   "metadata": {},
   "outputs": [
    {
     "data": {
      "text/html": [
       "<div>\n",
       "<style scoped>\n",
       "    .dataframe tbody tr th:only-of-type {\n",
       "        vertical-align: middle;\n",
       "    }\n",
       "\n",
       "    .dataframe tbody tr th {\n",
       "        vertical-align: top;\n",
       "    }\n",
       "\n",
       "    .dataframe thead th {\n",
       "        text-align: right;\n",
       "    }\n",
       "</style>\n",
       "<table border=\"1\" class=\"dataframe\">\n",
       "  <thead>\n",
       "    <tr style=\"text-align: right;\">\n",
       "      <th></th>\n",
       "      <th>order</th>\n",
       "      <th>artist</th>\n",
       "      <th>title</th>\n",
       "      <th>year</th>\n",
       "    </tr>\n",
       "  </thead>\n",
       "  <tbody>\n",
       "    <tr>\n",
       "      <th>49</th>\n",
       "      <td>1</td>\n",
       "      <td>The Beatles</td>\n",
       "      <td>A Day in the Life</td>\n",
       "      <td>1967</td>\n",
       "    </tr>\n",
       "    <tr>\n",
       "      <th>48</th>\n",
       "      <td>2</td>\n",
       "      <td>Nina Simone</td>\n",
       "      <td>Sinnerman</td>\n",
       "      <td>1965</td>\n",
       "    </tr>\n",
       "    <tr>\n",
       "      <th>47</th>\n",
       "      <td>3</td>\n",
       "      <td>The Ronettes</td>\n",
       "      <td>Be My Baby</td>\n",
       "      <td>1963</td>\n",
       "    </tr>\n",
       "    <tr>\n",
       "      <th>46</th>\n",
       "      <td>4</td>\n",
       "      <td>The Beach Boys</td>\n",
       "      <td>God Only Knows</td>\n",
       "      <td>1966</td>\n",
       "    </tr>\n",
       "    <tr>\n",
       "      <th>45</th>\n",
       "      <td>5</td>\n",
       "      <td>Billie Holiday</td>\n",
       "      <td>Strange Fruit</td>\n",
       "      <td>1939</td>\n",
       "    </tr>\n",
       "    <tr>\n",
       "      <th>...</th>\n",
       "      <td>...</td>\n",
       "      <td>...</td>\n",
       "      <td>...</td>\n",
       "      <td>...</td>\n",
       "    </tr>\n",
       "    <tr>\n",
       "      <th>4</th>\n",
       "      <td>246</td>\n",
       "      <td>Daryl Hall &amp; John Oates</td>\n",
       "      <td>I Can’t Go for That (No Can Do)</td>\n",
       "      <td>1981</td>\n",
       "    </tr>\n",
       "    <tr>\n",
       "      <th>3</th>\n",
       "      <td>247</td>\n",
       "      <td>The Orb</td>\n",
       "      <td>Little Fluffy Clouds</td>\n",
       "      <td>1990</td>\n",
       "    </tr>\n",
       "    <tr>\n",
       "      <th>2</th>\n",
       "      <td>248</td>\n",
       "      <td>Neil Young</td>\n",
       "      <td>After the Gold Rush</td>\n",
       "      <td>1970</td>\n",
       "    </tr>\n",
       "    <tr>\n",
       "      <th>1</th>\n",
       "      <td>249</td>\n",
       "      <td>Dolly Parton</td>\n",
       "      <td>Jolene</td>\n",
       "      <td>1973</td>\n",
       "    </tr>\n",
       "    <tr>\n",
       "      <th>0</th>\n",
       "      <td>250</td>\n",
       "      <td>Angel Olsen</td>\n",
       "      <td>Shut Up Kiss Me</td>\n",
       "      <td>2016</td>\n",
       "    </tr>\n",
       "  </tbody>\n",
       "</table>\n",
       "<p>250 rows × 4 columns</p>\n",
       "</div>"
      ],
      "text/plain": [
       "    order                   artist                            title  year\n",
       "49      1              The Beatles                A Day in the Life  1967\n",
       "48      2              Nina Simone                        Sinnerman  1965\n",
       "47      3             The Ronettes                       Be My Baby  1963\n",
       "46      4           The Beach Boys                   God Only Knows  1966\n",
       "45      5           Billie Holiday                    Strange Fruit  1939\n",
       "..    ...                      ...                              ...   ...\n",
       "4     246  Daryl Hall & John Oates  I Can’t Go for That (No Can Do)  1981\n",
       "3     247                  The Orb             Little Fluffy Clouds  1990\n",
       "2     248               Neil Young              After the Gold Rush  1970\n",
       "1     249             Dolly Parton                           Jolene  1973\n",
       "0     250              Angel Olsen                  Shut Up Kiss Me  2016\n",
       "\n",
       "[250 rows x 4 columns]"
      ]
     },
     "execution_count": 19,
     "metadata": {},
     "output_type": "execute_result"
    }
   ],
   "source": [
    "df = pd.DataFrame()\n",
    "\n",
    "for start in starts:\n",
    "    r = requests.get(f'https://bittermelodies.com/2021/02/14/1000-greatest-songs-of-all-time-part-4-250-1/{start}')\n",
    "    soup = BeautifulSoup(r.content, 'html.parser')\n",
    "    songs = [song.get_text() for song in soup.find_all('strong')]\n",
    "    info = get_song_info(songs)\n",
    "    new_df = pd.DataFrame.from_dict(info)\n",
    "    df = pd.concat([df, new_df]).sort_values('order')\n",
    "    \n",
    "df"
   ]
  }
 ],
 "metadata": {
  "kernelspec": {
   "display_name": "Python 3 (ipykernel)",
   "language": "python",
   "name": "python3"
  },
  "language_info": {
   "codemirror_mode": {
    "name": "ipython",
    "version": 3
   },
   "file_extension": ".py",
   "mimetype": "text/x-python",
   "name": "python",
   "nbconvert_exporter": "python",
   "pygments_lexer": "ipython3",
   "version": "3.9.13"
  }
 },
 "nbformat": 4,
 "nbformat_minor": 5
}
